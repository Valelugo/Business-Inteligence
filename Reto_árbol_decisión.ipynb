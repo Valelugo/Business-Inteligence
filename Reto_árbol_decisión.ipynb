{
  "nbformat": 4,
  "nbformat_minor": 0,
  "metadata": {
    "colab": {
      "provenance": [],
      "authorship_tag": "ABX9TyNP+1QoGTuZ9xKWvdLDyhqS",
      "include_colab_link": true
    },
    "kernelspec": {
      "name": "python3",
      "display_name": "Python 3"
    },
    "language_info": {
      "name": "python"
    }
  },
  "cells": [
    {
      "cell_type": "markdown",
      "metadata": {
        "id": "view-in-github",
        "colab_type": "text"
      },
      "source": [
        "<a href=\"https://colab.research.google.com/github/Valelugo/Business-Inteligence/blob/main/Reto_%C3%A1rbol_decisi%C3%B3n.ipynb\" target=\"_parent\"><img src=\"https://colab.research.google.com/assets/colab-badge.svg\" alt=\"Open In Colab\"/></a>"
      ]
    },
    {
      "cell_type": "markdown",
      "source": [
        "**Análisis de modelo empleando el árbol de decisión**\n",
        "\n",
        "Se analiza un modelo para determinar la influencia de las variables socioeconómicas y demográficas en la admisión a la universidad.\n"
      ],
      "metadata": {
        "id": "RS2eo5innKos"
      }
    },
    {
      "cell_type": "markdown",
      "source": [
        "0. Descarga librerías de trabajo"
      ],
      "metadata": {
        "id": "ciDgPj9gkqv_"
      }
    },
    {
      "cell_type": "code",
      "execution_count": null,
      "metadata": {
        "colab": {
          "base_uri": "https://localhost:8080/"
        },
        "id": "ZUPofT2GbzUQ",
        "outputId": "eb539108-7bc3-4107-83bb-39a141919b18"
      },
      "outputs": [
        {
          "output_type": "stream",
          "name": "stdout",
          "text": [
            "Mounted at /content/drive\n"
          ]
        }
      ],
      "source": [
        "#Librerías científicas\n",
        "import numpy as np\n",
        "import pandas as pd\n",
        "\n",
        "#librerías arbol\n",
        "from sklearn.tree import DecisionTreeClassifier\n",
        "from sklearn.metrics import confusion_matrix\n",
        "\n",
        "#Conectar al drive\n",
        "from google.colab import drive\n",
        "drive.mount('/content/drive')"
      ]
    },
    {
      "cell_type": "markdown",
      "source": [
        "1. Carga base de datos y explicación variables"
      ],
      "metadata": {
        "id": "Lx3B4zRtk7Q7"
      }
    },
    {
      "cell_type": "code",
      "source": [
        "nxl='/content/drive/MyDrive/2. CollegeAdmisions_Int_M.xlsx'\n",
        "XDB=pd.read_excel(nxl, sheet_name=0) #Información estudiantes\n",
        "XDB.head(100)\n",
        "XDB=XDB.dropna()\n",
        "\n",
        "\n",
        "#Seleccionar las variables\n",
        "XD=XDB[['Edu_Parent1', 'Edu_Parent2', 'Gender', 'White', 'Asian', 'HSGPA', 'SAT/ACT']] #Variable de entrada\n",
        "yd=XDB[['Admitted']] #Variable de salida\n",
        "\n",
        "#Convertir Gender en una variable numérica using .loc\n",
        "XD.loc[:, 'Gender'] = XD['Gender'].map({'F': 0, 'M': 1}) #El Loc es para no confundir al data frame con que es una nueva base o una copia. Indica modificaciones en la misma base de datos.\n",
        "\n",
        "\n"
      ],
      "metadata": {
        "id": "sAAQhKbmk-tl",
        "colab": {
          "base_uri": "https://localhost:8080/",
          "height": 424
        },
        "outputId": "9fa97cf9-4cef-4376-f828-dc21dc80c774"
      },
      "execution_count": null,
      "outputs": [
        {
          "output_type": "execute_result",
          "data": {
            "text/plain": [
              "       Edu_Parent1  Edu_Parent2 Gender  White  Asian  HSGPA  SAT/ACT\n",
              "6                6            6      0      1      0   4.26     1430\n",
              "28               7            6      1      1      0   3.95     1340\n",
              "46               3            6      1      1      0   4.33     1200\n",
              "61               7            7      0      1      0   4.27     1530\n",
              "65               6            7      0      0      0   4.04     1270\n",
              "...            ...          ...    ...    ...    ...    ...      ...\n",
              "17330            2            5      1      0      0   2.80     1010\n",
              "17332            7            4      1      1      0   3.04     1130\n",
              "17333            4            6      1      1      0   2.80     1210\n",
              "17334            7            6      1      0      0   3.42     1000\n",
              "17337            7            6      1      1      0   3.05     1130\n",
              "\n",
              "[1528 rows x 7 columns]"
            ],
            "text/html": [
              "\n",
              "  <div id=\"df-78644626-bc6e-439e-a9bd-c5fde82854e3\" class=\"colab-df-container\">\n",
              "    <div>\n",
              "<style scoped>\n",
              "    .dataframe tbody tr th:only-of-type {\n",
              "        vertical-align: middle;\n",
              "    }\n",
              "\n",
              "    .dataframe tbody tr th {\n",
              "        vertical-align: top;\n",
              "    }\n",
              "\n",
              "    .dataframe thead th {\n",
              "        text-align: right;\n",
              "    }\n",
              "</style>\n",
              "<table border=\"1\" class=\"dataframe\">\n",
              "  <thead>\n",
              "    <tr style=\"text-align: right;\">\n",
              "      <th></th>\n",
              "      <th>Edu_Parent1</th>\n",
              "      <th>Edu_Parent2</th>\n",
              "      <th>Gender</th>\n",
              "      <th>White</th>\n",
              "      <th>Asian</th>\n",
              "      <th>HSGPA</th>\n",
              "      <th>SAT/ACT</th>\n",
              "    </tr>\n",
              "  </thead>\n",
              "  <tbody>\n",
              "    <tr>\n",
              "      <th>6</th>\n",
              "      <td>6</td>\n",
              "      <td>6</td>\n",
              "      <td>0</td>\n",
              "      <td>1</td>\n",
              "      <td>0</td>\n",
              "      <td>4.26</td>\n",
              "      <td>1430</td>\n",
              "    </tr>\n",
              "    <tr>\n",
              "      <th>28</th>\n",
              "      <td>7</td>\n",
              "      <td>6</td>\n",
              "      <td>1</td>\n",
              "      <td>1</td>\n",
              "      <td>0</td>\n",
              "      <td>3.95</td>\n",
              "      <td>1340</td>\n",
              "    </tr>\n",
              "    <tr>\n",
              "      <th>46</th>\n",
              "      <td>3</td>\n",
              "      <td>6</td>\n",
              "      <td>1</td>\n",
              "      <td>1</td>\n",
              "      <td>0</td>\n",
              "      <td>4.33</td>\n",
              "      <td>1200</td>\n",
              "    </tr>\n",
              "    <tr>\n",
              "      <th>61</th>\n",
              "      <td>7</td>\n",
              "      <td>7</td>\n",
              "      <td>0</td>\n",
              "      <td>1</td>\n",
              "      <td>0</td>\n",
              "      <td>4.27</td>\n",
              "      <td>1530</td>\n",
              "    </tr>\n",
              "    <tr>\n",
              "      <th>65</th>\n",
              "      <td>6</td>\n",
              "      <td>7</td>\n",
              "      <td>0</td>\n",
              "      <td>0</td>\n",
              "      <td>0</td>\n",
              "      <td>4.04</td>\n",
              "      <td>1270</td>\n",
              "    </tr>\n",
              "    <tr>\n",
              "      <th>...</th>\n",
              "      <td>...</td>\n",
              "      <td>...</td>\n",
              "      <td>...</td>\n",
              "      <td>...</td>\n",
              "      <td>...</td>\n",
              "      <td>...</td>\n",
              "      <td>...</td>\n",
              "    </tr>\n",
              "    <tr>\n",
              "      <th>17330</th>\n",
              "      <td>2</td>\n",
              "      <td>5</td>\n",
              "      <td>1</td>\n",
              "      <td>0</td>\n",
              "      <td>0</td>\n",
              "      <td>2.80</td>\n",
              "      <td>1010</td>\n",
              "    </tr>\n",
              "    <tr>\n",
              "      <th>17332</th>\n",
              "      <td>7</td>\n",
              "      <td>4</td>\n",
              "      <td>1</td>\n",
              "      <td>1</td>\n",
              "      <td>0</td>\n",
              "      <td>3.04</td>\n",
              "      <td>1130</td>\n",
              "    </tr>\n",
              "    <tr>\n",
              "      <th>17333</th>\n",
              "      <td>4</td>\n",
              "      <td>6</td>\n",
              "      <td>1</td>\n",
              "      <td>1</td>\n",
              "      <td>0</td>\n",
              "      <td>2.80</td>\n",
              "      <td>1210</td>\n",
              "    </tr>\n",
              "    <tr>\n",
              "      <th>17334</th>\n",
              "      <td>7</td>\n",
              "      <td>6</td>\n",
              "      <td>1</td>\n",
              "      <td>0</td>\n",
              "      <td>0</td>\n",
              "      <td>3.42</td>\n",
              "      <td>1000</td>\n",
              "    </tr>\n",
              "    <tr>\n",
              "      <th>17337</th>\n",
              "      <td>7</td>\n",
              "      <td>6</td>\n",
              "      <td>1</td>\n",
              "      <td>1</td>\n",
              "      <td>0</td>\n",
              "      <td>3.05</td>\n",
              "      <td>1130</td>\n",
              "    </tr>\n",
              "  </tbody>\n",
              "</table>\n",
              "<p>1528 rows × 7 columns</p>\n",
              "</div>\n",
              "    <div class=\"colab-df-buttons\">\n",
              "\n",
              "  <div class=\"colab-df-container\">\n",
              "    <button class=\"colab-df-convert\" onclick=\"convertToInteractive('df-78644626-bc6e-439e-a9bd-c5fde82854e3')\"\n",
              "            title=\"Convert this dataframe to an interactive table.\"\n",
              "            style=\"display:none;\">\n",
              "\n",
              "  <svg xmlns=\"http://www.w3.org/2000/svg\" height=\"24px\" viewBox=\"0 -960 960 960\">\n",
              "    <path d=\"M120-120v-720h720v720H120Zm60-500h600v-160H180v160Zm220 220h160v-160H400v160Zm0 220h160v-160H400v160ZM180-400h160v-160H180v160Zm440 0h160v-160H620v160ZM180-180h160v-160H180v160Zm440 0h160v-160H620v160Z\"/>\n",
              "  </svg>\n",
              "    </button>\n",
              "\n",
              "  <style>\n",
              "    .colab-df-container {\n",
              "      display:flex;\n",
              "      gap: 12px;\n",
              "    }\n",
              "\n",
              "    .colab-df-convert {\n",
              "      background-color: #E8F0FE;\n",
              "      border: none;\n",
              "      border-radius: 50%;\n",
              "      cursor: pointer;\n",
              "      display: none;\n",
              "      fill: #1967D2;\n",
              "      height: 32px;\n",
              "      padding: 0 0 0 0;\n",
              "      width: 32px;\n",
              "    }\n",
              "\n",
              "    .colab-df-convert:hover {\n",
              "      background-color: #E2EBFA;\n",
              "      box-shadow: 0px 1px 2px rgba(60, 64, 67, 0.3), 0px 1px 3px 1px rgba(60, 64, 67, 0.15);\n",
              "      fill: #174EA6;\n",
              "    }\n",
              "\n",
              "    .colab-df-buttons div {\n",
              "      margin-bottom: 4px;\n",
              "    }\n",
              "\n",
              "    [theme=dark] .colab-df-convert {\n",
              "      background-color: #3B4455;\n",
              "      fill: #D2E3FC;\n",
              "    }\n",
              "\n",
              "    [theme=dark] .colab-df-convert:hover {\n",
              "      background-color: #434B5C;\n",
              "      box-shadow: 0px 1px 3px 1px rgba(0, 0, 0, 0.15);\n",
              "      filter: drop-shadow(0px 1px 2px rgba(0, 0, 0, 0.3));\n",
              "      fill: #FFFFFF;\n",
              "    }\n",
              "  </style>\n",
              "\n",
              "    <script>\n",
              "      const buttonEl =\n",
              "        document.querySelector('#df-78644626-bc6e-439e-a9bd-c5fde82854e3 button.colab-df-convert');\n",
              "      buttonEl.style.display =\n",
              "        google.colab.kernel.accessAllowed ? 'block' : 'none';\n",
              "\n",
              "      async function convertToInteractive(key) {\n",
              "        const element = document.querySelector('#df-78644626-bc6e-439e-a9bd-c5fde82854e3');\n",
              "        const dataTable =\n",
              "          await google.colab.kernel.invokeFunction('convertToInteractive',\n",
              "                                                    [key], {});\n",
              "        if (!dataTable) return;\n",
              "\n",
              "        const docLinkHtml = 'Like what you see? Visit the ' +\n",
              "          '<a target=\"_blank\" href=https://colab.research.google.com/notebooks/data_table.ipynb>data table notebook</a>'\n",
              "          + ' to learn more about interactive tables.';\n",
              "        element.innerHTML = '';\n",
              "        dataTable['output_type'] = 'display_data';\n",
              "        await google.colab.output.renderOutput(dataTable, element);\n",
              "        const docLink = document.createElement('div');\n",
              "        docLink.innerHTML = docLinkHtml;\n",
              "        element.appendChild(docLink);\n",
              "      }\n",
              "    </script>\n",
              "  </div>\n",
              "\n",
              "\n",
              "<div id=\"df-9159321b-9ca8-4e8a-a41e-43351e4b2e91\">\n",
              "  <button class=\"colab-df-quickchart\" onclick=\"quickchart('df-9159321b-9ca8-4e8a-a41e-43351e4b2e91')\"\n",
              "            title=\"Suggest charts\"\n",
              "            style=\"display:none;\">\n",
              "\n",
              "<svg xmlns=\"http://www.w3.org/2000/svg\" height=\"24px\"viewBox=\"0 0 24 24\"\n",
              "     width=\"24px\">\n",
              "    <g>\n",
              "        <path d=\"M19 3H5c-1.1 0-2 .9-2 2v14c0 1.1.9 2 2 2h14c1.1 0 2-.9 2-2V5c0-1.1-.9-2-2-2zM9 17H7v-7h2v7zm4 0h-2V7h2v10zm4 0h-2v-4h2v4z\"/>\n",
              "    </g>\n",
              "</svg>\n",
              "  </button>\n",
              "\n",
              "<style>\n",
              "  .colab-df-quickchart {\n",
              "      --bg-color: #E8F0FE;\n",
              "      --fill-color: #1967D2;\n",
              "      --hover-bg-color: #E2EBFA;\n",
              "      --hover-fill-color: #174EA6;\n",
              "      --disabled-fill-color: #AAA;\n",
              "      --disabled-bg-color: #DDD;\n",
              "  }\n",
              "\n",
              "  [theme=dark] .colab-df-quickchart {\n",
              "      --bg-color: #3B4455;\n",
              "      --fill-color: #D2E3FC;\n",
              "      --hover-bg-color: #434B5C;\n",
              "      --hover-fill-color: #FFFFFF;\n",
              "      --disabled-bg-color: #3B4455;\n",
              "      --disabled-fill-color: #666;\n",
              "  }\n",
              "\n",
              "  .colab-df-quickchart {\n",
              "    background-color: var(--bg-color);\n",
              "    border: none;\n",
              "    border-radius: 50%;\n",
              "    cursor: pointer;\n",
              "    display: none;\n",
              "    fill: var(--fill-color);\n",
              "    height: 32px;\n",
              "    padding: 0;\n",
              "    width: 32px;\n",
              "  }\n",
              "\n",
              "  .colab-df-quickchart:hover {\n",
              "    background-color: var(--hover-bg-color);\n",
              "    box-shadow: 0 1px 2px rgba(60, 64, 67, 0.3), 0 1px 3px 1px rgba(60, 64, 67, 0.15);\n",
              "    fill: var(--button-hover-fill-color);\n",
              "  }\n",
              "\n",
              "  .colab-df-quickchart-complete:disabled,\n",
              "  .colab-df-quickchart-complete:disabled:hover {\n",
              "    background-color: var(--disabled-bg-color);\n",
              "    fill: var(--disabled-fill-color);\n",
              "    box-shadow: none;\n",
              "  }\n",
              "\n",
              "  .colab-df-spinner {\n",
              "    border: 2px solid var(--fill-color);\n",
              "    border-color: transparent;\n",
              "    border-bottom-color: var(--fill-color);\n",
              "    animation:\n",
              "      spin 1s steps(1) infinite;\n",
              "  }\n",
              "\n",
              "  @keyframes spin {\n",
              "    0% {\n",
              "      border-color: transparent;\n",
              "      border-bottom-color: var(--fill-color);\n",
              "      border-left-color: var(--fill-color);\n",
              "    }\n",
              "    20% {\n",
              "      border-color: transparent;\n",
              "      border-left-color: var(--fill-color);\n",
              "      border-top-color: var(--fill-color);\n",
              "    }\n",
              "    30% {\n",
              "      border-color: transparent;\n",
              "      border-left-color: var(--fill-color);\n",
              "      border-top-color: var(--fill-color);\n",
              "      border-right-color: var(--fill-color);\n",
              "    }\n",
              "    40% {\n",
              "      border-color: transparent;\n",
              "      border-right-color: var(--fill-color);\n",
              "      border-top-color: var(--fill-color);\n",
              "    }\n",
              "    60% {\n",
              "      border-color: transparent;\n",
              "      border-right-color: var(--fill-color);\n",
              "    }\n",
              "    80% {\n",
              "      border-color: transparent;\n",
              "      border-right-color: var(--fill-color);\n",
              "      border-bottom-color: var(--fill-color);\n",
              "    }\n",
              "    90% {\n",
              "      border-color: transparent;\n",
              "      border-bottom-color: var(--fill-color);\n",
              "    }\n",
              "  }\n",
              "</style>\n",
              "\n",
              "  <script>\n",
              "    async function quickchart(key) {\n",
              "      const quickchartButtonEl =\n",
              "        document.querySelector('#' + key + ' button');\n",
              "      quickchartButtonEl.disabled = true;  // To prevent multiple clicks.\n",
              "      quickchartButtonEl.classList.add('colab-df-spinner');\n",
              "      try {\n",
              "        const charts = await google.colab.kernel.invokeFunction(\n",
              "            'suggestCharts', [key], {});\n",
              "      } catch (error) {\n",
              "        console.error('Error during call to suggestCharts:', error);\n",
              "      }\n",
              "      quickchartButtonEl.classList.remove('colab-df-spinner');\n",
              "      quickchartButtonEl.classList.add('colab-df-quickchart-complete');\n",
              "    }\n",
              "    (() => {\n",
              "      let quickchartButtonEl =\n",
              "        document.querySelector('#df-9159321b-9ca8-4e8a-a41e-43351e4b2e91 button');\n",
              "      quickchartButtonEl.style.display =\n",
              "        google.colab.kernel.accessAllowed ? 'block' : 'none';\n",
              "    })();\n",
              "  </script>\n",
              "</div>\n",
              "\n",
              "  <div id=\"id_a7bb68a5-a7ea-4816-b9fc-6cd2b20b1eaf\">\n",
              "    <style>\n",
              "      .colab-df-generate {\n",
              "        background-color: #E8F0FE;\n",
              "        border: none;\n",
              "        border-radius: 50%;\n",
              "        cursor: pointer;\n",
              "        display: none;\n",
              "        fill: #1967D2;\n",
              "        height: 32px;\n",
              "        padding: 0 0 0 0;\n",
              "        width: 32px;\n",
              "      }\n",
              "\n",
              "      .colab-df-generate:hover {\n",
              "        background-color: #E2EBFA;\n",
              "        box-shadow: 0px 1px 2px rgba(60, 64, 67, 0.3), 0px 1px 3px 1px rgba(60, 64, 67, 0.15);\n",
              "        fill: #174EA6;\n",
              "      }\n",
              "\n",
              "      [theme=dark] .colab-df-generate {\n",
              "        background-color: #3B4455;\n",
              "        fill: #D2E3FC;\n",
              "      }\n",
              "\n",
              "      [theme=dark] .colab-df-generate:hover {\n",
              "        background-color: #434B5C;\n",
              "        box-shadow: 0px 1px 3px 1px rgba(0, 0, 0, 0.15);\n",
              "        filter: drop-shadow(0px 1px 2px rgba(0, 0, 0, 0.3));\n",
              "        fill: #FFFFFF;\n",
              "      }\n",
              "    </style>\n",
              "    <button class=\"colab-df-generate\" onclick=\"generateWithVariable('XD')\"\n",
              "            title=\"Generate code using this dataframe.\"\n",
              "            style=\"display:none;\">\n",
              "\n",
              "  <svg xmlns=\"http://www.w3.org/2000/svg\" height=\"24px\"viewBox=\"0 0 24 24\"\n",
              "       width=\"24px\">\n",
              "    <path d=\"M7,19H8.4L18.45,9,17,7.55,7,17.6ZM5,21V16.75L18.45,3.32a2,2,0,0,1,2.83,0l1.4,1.43a1.91,1.91,0,0,1,.58,1.4,1.91,1.91,0,0,1-.58,1.4L9.25,21ZM18.45,9,17,7.55Zm-12,3A5.31,5.31,0,0,0,4.9,8.1,5.31,5.31,0,0,0,1,6.5,5.31,5.31,0,0,0,4.9,4.9,5.31,5.31,0,0,0,6.5,1,5.31,5.31,0,0,0,8.1,4.9,5.31,5.31,0,0,0,12,6.5,5.46,5.46,0,0,0,6.5,12Z\"/>\n",
              "  </svg>\n",
              "    </button>\n",
              "    <script>\n",
              "      (() => {\n",
              "      const buttonEl =\n",
              "        document.querySelector('#id_a7bb68a5-a7ea-4816-b9fc-6cd2b20b1eaf button.colab-df-generate');\n",
              "      buttonEl.style.display =\n",
              "        google.colab.kernel.accessAllowed ? 'block' : 'none';\n",
              "\n",
              "      buttonEl.onclick = () => {\n",
              "        google.colab.notebook.generateWithVariable('XD');\n",
              "      }\n",
              "      })();\n",
              "    </script>\n",
              "  </div>\n",
              "\n",
              "    </div>\n",
              "  </div>\n"
            ],
            "application/vnd.google.colaboratory.intrinsic+json": {
              "type": "dataframe",
              "variable_name": "XD",
              "repr_error": "0"
            }
          },
          "metadata": {},
          "execution_count": 56
        }
      ]
    },
    {
      "cell_type": "markdown",
      "source": [
        "**Descripción de los datos**\n",
        "De acuerdo con la base de datos de estudiantes, la cual posee un total de 1528 datos dividios en 1303 admitidos y 225 no admitidos. Cada uno de los posibles candidatos está descrito en función de 7 variables:\n",
        "\n",
        "* Edu_parent: indica el número de años de educación de los padres, en función a las categorías del nivel educativo. (Secundaria, bachillerato, universidad y posgrado)\n",
        "* Gender: se trata de una variable categórica que indica si la persona admitida es hombre o mujer.\n",
        "* White: se refiere a una variable racial que indica si el individuo es blanco.\n",
        "* Asian: indica una variable étnica que indica si el estudiante se identifica como asiático.\n",
        "* HSGPA: se trata de una medida que representa el desempeño académico del estudiante a lo largo del bachillerato.\n",
        "* SAT/ACT: enlista la puntuación puntuación promedio del exámen SAT que evalúa la escritura y las matemáticas.\n",
        "* Admitted: es un proceso competitivo, en el que se evalúa al estudiante para determinar si es o no admitido en la universidad.\n",
        "\n"
      ],
      "metadata": {
        "id": "QoXemFsXniWf"
      }
    },
    {
      "cell_type": "markdown",
      "source": [
        "Definir las variables utilizadas"
      ],
      "metadata": {
        "id": "yp1siT1-nRDX"
      }
    },
    {
      "cell_type": "markdown",
      "source": [
        "2. Se procede con la implementación del modelo"
      ],
      "metadata": {
        "id": "kFKjq4eJnZlb"
      }
    },
    {
      "cell_type": "code",
      "source": [
        "mar=DecisionTreeClassifier(criterion='gini', max_depth=4, random_state=42)\n",
        "mar.fit(XD,yd)\n",
        "\n",
        "#Se procede con la gráfica\n",
        "from pydotplus import graph_from_dot_data #Crea la gráfica\n",
        "from sklearn.tree import export_graphviz #Lo exporta a PNG\n",
        "\n",
        "ve=['Edu_Parent1', 'Edu_Parent2', 'Gender', 'White', 'Asian', 'HSGPA', 'SAT/ACT']\n",
        "dot_data=export_graphviz(mar, feature_names=ve) #Crear el gráfico\n",
        "graph=graph_from_dot_data(dot_data)\n",
        "graph.write_png('ArbolDecision.png')"
      ],
      "metadata": {
        "colab": {
          "base_uri": "https://localhost:8080/"
        },
        "id": "HRMfAptRnQyt",
        "outputId": "eab0827d-fd58-4736-c71c-ccc726f60f03"
      },
      "execution_count": null,
      "outputs": [
        {
          "output_type": "execute_result",
          "data": {
            "text/plain": [
              "True"
            ]
          },
          "metadata": {},
          "execution_count": 65
        }
      ]
    },
    {
      "cell_type": "markdown",
      "source": [
        "3. Se procede con el pronóstico de estudiantes que no fueron admitidos."
      ],
      "metadata": {
        "id": "autiHqsgoShL"
      }
    },
    {
      "cell_type": "code",
      "source": [
        "# Conteo de estudiantes admitidos\n",
        "admitted_count = XDB['Admitted'].value_counts()['Yes']\n",
        "\n",
        "# Conteo de estudiantes no admitidos\n",
        "not_admitted_count = XDB['Admitted'].value_counts()['No']\n",
        "\n",
        "print(\"Estudiantes admitidos:\", admitted_count)\n",
        "print(\"Estudiantes no admitidos:\", not_admitted_count)\n"
      ],
      "metadata": {
        "colab": {
          "base_uri": "https://localhost:8080/"
        },
        "id": "RDjim-pFoYAO",
        "outputId": "6b9adadf-91fc-420a-9e78-21853b677a45"
      },
      "execution_count": null,
      "outputs": [
        {
          "output_type": "stream",
          "name": "stdout",
          "text": [
            "Estudiantes admitidos: 1303\n",
            "Estudiantes no admitidos: 225\n"
          ]
        }
      ]
    },
    {
      "cell_type": "markdown",
      "source": [
        "4. Determinar el número de nodos puros (Aunque se pueden contar manualmente en el pdf del árbol, gemini ayudó a crear un código para determinarlos)"
      ],
      "metadata": {
        "id": "f_zMWBDo_iQD"
      }
    },
    {
      "cell_type": "code",
      "source": [
        "# Considerar la estructura del árbol\n",
        "tree = mar.tree_\n",
        "\n",
        "# Conteo de los nodos puros\n",
        "pure_nodes_count = 0\n",
        "\n",
        "for node_id in range(tree.node_count):\n",
        "    # Comprueba si el nodo es un nodo hoja, es decir, un nodo que no tiene hijos y representa una decisión final o una predicción.\n",
        "    if tree.children_left[node_id] == tree.children_right[node_id]:\n",
        "        # Comprueba si es un nodo puro(all samples belong to the same class)\n",
        "        if tree.impurity[node_id] == 0:\n",
        "            pure_nodes_count += 1\n",
        "\n",
        "# Print the number of pure nodes\n",
        "print(\"Number of pure nodes:\", pure_nodes_count)"
      ],
      "metadata": {
        "colab": {
          "base_uri": "https://localhost:8080/"
        },
        "id": "NGfxnz0MAEie",
        "outputId": "c163e832-7d3c-43b8-c778-f7b0f986402e"
      },
      "execution_count": null,
      "outputs": [
        {
          "output_type": "stream",
          "name": "stdout",
          "text": [
            "Number of pure nodes: 7\n"
          ]
        }
      ]
    },
    {
      "cell_type": "markdown",
      "source": [
        "5. Llevar a cabo el pronóstico de la admisión para las personas agrupadas en la base de datos del pronóstico (sheet = 1)"
      ],
      "metadata": {
        "id": "TytaWArgBrkB"
      }
    },
    {
      "cell_type": "code",
      "source": [
        "# Load the forecast database (sheet 1)\n",
        "datos = pd.read_excel('/content/drive/MyDrive/2. CollegeAdmisions_Int_M.xlsx', sheet_name=1)\n",
        "\n",
        "Pronosticar_datos = datos\n",
        "\n",
        "#Reseleccionar las variables\n",
        "XD=XDB[['Edu_Parent1', 'Edu_Parent2', 'Gender', 'White', 'Asian', 'HSGPA', 'SAT/ACT']] #Variable de entrada\n",
        "yd=XDB[['Admitted']] #Variable de salida\n",
        "\n",
        "#Convertir Gender en una variable numérica using .loc\n",
        "XD.loc[:, 'Gender'] = XD['Gender'].map({'F': 0, 'M': 1})\n",
        "\n",
        "# Crear un subconjunto de los datos de pronóstico con características relevantes\n",
        "X_pronostico = Pronosticar_datos[['Edu_Parent1', 'Edu_Parent2', 'Gender', 'White', 'Asian', 'HSGPA', 'SAT/ACT']]\n",
        "\n",
        "# Convertir Gender en una variable numérica\n",
        "X_pronostico.loc[:, 'Gender'] = X_pronostico['Gender'].map({'F': 0, 'M': 1})\n",
        "\n",
        "\n",
        "predicciones = mar.predict(X_pronostico)\n",
        "Pronosticar_datos['AdmissionPrediction'] = predicciones\n",
        "Pronosticar_datos.to_excel('pronosticoestudiantes.xlsx', index=False)"
      ],
      "metadata": {
        "id": "ADNiioxHB1hF"
      },
      "execution_count": null,
      "outputs": []
    },
    {
      "cell_type": "markdown",
      "source": [
        "6. Evaluar el comportamiento del modelo"
      ],
      "metadata": {
        "id": "pmuRLzUoDrNd"
      }
    },
    {
      "cell_type": "code",
      "source": [
        "ydp=mar.predict(XD) #Pronóstico sobre la base de datos original\n",
        "cm=confusion_matrix(yd, ydp)\n",
        "print(\"La matriz de confusión es: \\n\", cm)\n",
        "\n",
        "VN=cm[0,0]; FP=cm[0,1];FN=cm[1,0]; VP=cm[1,1]\n",
        "\n",
        "Exactitud=(VP+VN)/(VP+VN+FP+FN)\n",
        "Sensibilidad=VP/(VP+FN)\n",
        "Especificidad=VN/(VN+FP)\n",
        "Precision=VP/(VP+FP)\n",
        "TasaError=(FP+FN)/(VP+VN+FP+FN)\n",
        "PredNeg=VN/(VN+FN)\n",
        "\n",
        "print(\"La exactitud es: \", Exactitud)\n",
        "print(\"La sensibilidad es: \", Sensibilidad)\n",
        "print(\"La especificidad es: \", Especificidad)\n",
        "print(\"La precision es: \", Precision)\n",
        "print(\"La tasa de error es: \", TasaError)\n",
        "print(\"La presición negativa es:\", PredNeg)"
      ],
      "metadata": {
        "colab": {
          "base_uri": "https://localhost:8080/"
        },
        "id": "N4Yc29yVDq6q",
        "outputId": "3726af84-fc7d-45a5-87dc-847a4d390c21"
      },
      "execution_count": null,
      "outputs": [
        {
          "output_type": "stream",
          "name": "stdout",
          "text": [
            "La matriz de confusión es: \n",
            " [[  20  205]\n",
            " [   2 1301]]\n",
            "La exactitud es:  0.8645287958115183\n",
            "La sensibilidad es:  0.9984650805832693\n",
            "La especificidad es:  0.08888888888888889\n",
            "La precision es:  0.8638778220451527\n",
            "La tasa de error es:  0.1354712041884817\n",
            "La presición negativa es: 0.9090909090909091\n"
          ]
        }
      ]
    },
    {
      "cell_type": "markdown",
      "source": [
        "**Análisis de resultados**\n",
        "La matriz de confusión muestra una predominancia por los valores Verdaderos Positivos, equivalentes a 1301 datos. Esto contribuyó a que el sistema alcanzara porcentajes superiores al 80% para los índices de exactitud, sensibilidad y precisión; además de tener una tasa de error por debajo del 15%, lo que indica que el sistema no tiene un sesgo elevado. Con respecto al número total de datos, el modelo destaca que 1303 estudiantes fueron admitidos, mientras que 225 no; cabe resaltar la información de la base de datos, la cual no carecía de ningún valor para la variable de salida, por lo que no fue necesario predecir. A su vez, se ubican 7 nodos puros con un gini equivalente al 0%, lo que indica la homogenidad y veracidad de los datos. De acuerdo con los índices, el modelo muestra un mejor comportamiento en la sensibilidad (99,8%) y la presición negativa (90,90%), a diferencia de la especificidad. (8,8%)"
      ],
      "metadata": {
        "id": "UW9UIow3sZBy"
      }
    }
  ]
}